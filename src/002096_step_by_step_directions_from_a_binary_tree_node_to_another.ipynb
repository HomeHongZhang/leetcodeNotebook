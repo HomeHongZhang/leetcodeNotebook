{
 "cells": [
  {
   "cell_type": "markdown",
   "metadata": {},
   "source": [
    "## 2096. Step-By-Step Directions From a Binary Tree Node to Another\n",
    "\n",
    "You are given the root of a binary tree with n nodes. Each node is uniquely assigned a value from 1 to n. You are also given an integer startValue representing the value of the start node s, and a different integer destValue representing the value of the destination node t.\n",
    "\n",
    "Find the shortest path starting from node s and ending at node t. Generate step-by-step directions of such path as a string consisting of only the uppercase letters 'L', 'R', and 'U'. Each letter indicates a specific direction:\n",
    "\n",
    "'L' means to go from a node to its left child node.\n",
    "'R' means to go from a node to its right child node.\n",
    "'U' means to go from a node to its parent node.\n",
    "Return the step-by-step directions of the shortest path from node s to node t."
   ]
  },
  {
   "cell_type": "code",
   "execution_count": null,
   "metadata": {
    "vscode": {
     "languageId": "cpp"
    }
   },
   "outputs": [],
   "source": [
    "/**\n",
    " * Definition for a binary tree node.\n",
    " * struct TreeNode {\n",
    " *     int val;\n",
    " *     TreeNode *left;\n",
    " *     TreeNode *right;\n",
    " *     TreeNode() : val(0), left(nullptr), right(nullptr) {}\n",
    " *     TreeNode(int x) : val(x), left(nullptr), right(nullptr) {}\n",
    " *     TreeNode(int x, TreeNode *left, TreeNode *right) : val(x), left(left), right(right) {}\n",
    " * };\n",
    " */\n",
    "class Solution {\n",
    "    public:\n",
    "        string getDirections(TreeNode* root, int startValue, int destValue) {\n",
    "            // get the lowest common ancestor\n",
    "            TreeNode * LCA =  getLCA(root, startValue, destValue);\n",
    "    \n",
    "            string pathToStart;\n",
    "            string pathToDest;\n",
    "            getPath(LCA, startValue, pathToStart);\n",
    "            getPath(LCA, destValue, pathToDest);\n",
    "    \n",
    "            string ans;\n",
    "            ans.append(pathToStart.size(), 'U');\n",
    "            ans.append(pathToDest);\n",
    "    \n",
    "            return ans;\n",
    "        }\n",
    "    \n",
    "        bool getPath(TreeNode * LCA, int target, string & path)\n",
    "        {\n",
    "            if (!LCA) return false;\n",
    "    \n",
    "            if (target == LCA->val) return true;\n",
    "    \n",
    "            path.push_back('L');\n",
    "            if (getPath(LCA->left, target, path)) return true;\n",
    "            path.pop_back();\n",
    "    \n",
    "            path.push_back('R');\n",
    "            if (getPath(LCA->right, target, path)) return true;\n",
    "            path.pop_back();\n",
    "    \n",
    "            return false;\n",
    "        }\n",
    "    \n",
    "        TreeNode * getLCA(TreeNode* root, const int val1, const int val2)\n",
    "        {\n",
    "            if (!root) return nullptr;\n",
    "    \n",
    "            if (val1 == root->val or val2 == root->val) return root;\n",
    "    \n",
    "            TreeNode * leftPtr = getLCA(root->left, val1, val2);\n",
    "            TreeNode * rightPtr = getLCA(root->right, val1, val2);\n",
    "            \n",
    "            if (!leftPtr) return rightPtr;\n",
    "            if (!rightPtr) return leftPtr;\n",
    "    \n",
    "            return root;\n",
    "        }\n",
    "    };"
   ]
  }
 ],
 "metadata": {
  "kernelspec": {
   "display_name": "C++17",
   "language": "C++17",
   "name": "xcpp17"
  },
  "language_info": {
   "name": "C++17"
  }
 },
 "nbformat": 4,
 "nbformat_minor": 2
}
