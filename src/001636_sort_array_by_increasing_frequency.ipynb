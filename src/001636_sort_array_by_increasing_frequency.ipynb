{
 "cells": [
  {
   "cell_type": "markdown",
   "metadata": {},
   "source": [
    "## 1636. Sort Array by Increasing Frequency\n",
    "\n",
    "Given an array of integers `nums`, sort the array in **increasing** order based on the frequency of the values. If multiple values have the same frequency, sort them in **decreasing** order.\n",
    "\n",
    "Return the *sorted* array.\n",
    " \n",
    "\n",
    "### Example 1:\n",
    "\n",
    "\n",
    "- **Input:** `nums = [1,1,2,2,2,3]`\n",
    "- **Output:** `[3,1,1,2,2,2]`\n",
    "- **Explanation:** '3' has a frequency of 1, '1' has a frequency of 2, and '2' has a frequency of 3.\n",
    "\n",
    "### Example 2:\n",
    "\n",
    "- **Input:** `nums = [2,3,1,3,2]`\n",
    "- **Output:** `[1,3,3,2,2]`\n",
    "- **Explanation:** '2' and '3' both have a frequency of 2, so they are sorted in decreasing order.\n",
    "\n",
    "### Example 3:\n",
    "\n",
    "- **Input:** `nums = [-1,1,-6,4,5,-6,1,4,1]`\n",
    "- **Output:** `[5,-1,4,4,-6,-6,1,1,1]`\n",
    " \n",
    "\n",
    "### Constraints:\n",
    "\n",
    "- `1 <= nums.length <= 100`\n",
    "- `-100 <= nums[i] <= 100`"
   ]
  },
  {
   "cell_type": "code",
   "execution_count": null,
   "metadata": {},
   "outputs": [],
   "source": [
    "class Solution:\n",
    "    def frequencySort(self, nums: List[int]) -> List[int]:\n",
    "        mp = {} # map to store <value, frequency>\n",
    "        \n",
    "        for n in nums:\n",
    "            if n in mp:\n",
    "                mp[n] += 1\n",
    "            else:\n",
    "                mp[n] = 1\n",
    "        \n",
    "        nums.sort(key = lambda x: (mp[x], -x))\n",
    "        \n",
    "        return nums\n",
    "        "
   ]
  },
  {
   "cell_type": "code",
   "execution_count": null,
   "metadata": {
    "vscode": {
     "languageId": "cpp"
    }
   },
   "outputs": [],
   "source": [
    "class Solution {\n",
    "public:\n",
    "    vector<int> frequencySort(vector<int>& nums) {\n",
    "        // <value, frequency>\n",
    "        unordered_map<int, int> mp;\n",
    "        for (int i : nums) {\n",
    "            mp[i]++;\n",
    "        }\n",
    "        sort(nums.begin(), nums.end(), [&](int a, int b) {\n",
    "            return mp[a] == mp[b] ? a > b : mp[a] < mp[b];\n",
    "        });\n",
    "        return nums;\n",
    "    }\n",
    "};"
   ]
  },
  {
   "cell_type": "code",
   "execution_count": null,
   "metadata": {
    "vscode": {
     "languageId": "rust"
    }
   },
   "outputs": [],
   "source": [
    "use std::collections::HashMap;\n",
    "\n",
    "impl Solution {\n",
    "    pub fn frequency_sort(nums: Vec<i32>) -> Vec<i32> {\n",
    "        let mut mp = HashMap::new();\n",
    "        \n",
    "        for &n in nums.iter() {\n",
    "            *mp.entry(n).or_insert(0) += 1;\n",
    "        }\n",
    "        \n",
    "        let mut nums = nums;\n",
    "        // nums.sort_by(|a, b| {\n",
    "        //     let freq_a = mp.get(&a).unwrap();\n",
    "        //     let freq_b = mp.get(&b).unwrap();\n",
    "        //     if freq_a == freq_b {\n",
    "        //         b.cmp(&a)\n",
    "        //     } else {\n",
    "        //         freq_a.cmp(&freq_b)\n",
    "        //     }\n",
    "        // });\n",
    "        nums.sort_by(|a,b| mp.get(a).unwrap().cmp(mp.get(b).unwrap()).then(b.cmp(a)));\n",
    "\n",
    "        nums\n",
    "    }\n",
    "}"
   ]
  }
 ],
 "metadata": {
  "language_info": {
   "name": "python"
  }
 },
 "nbformat": 4,
 "nbformat_minor": 2
}
